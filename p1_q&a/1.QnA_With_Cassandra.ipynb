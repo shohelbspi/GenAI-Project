{
 "cells": [
  {
   "cell_type": "code",
   "execution_count": 1,
   "id": "eb6c412d",
   "metadata": {},
   "outputs": [],
   "source": [
    "from langchain.vectorstores.cassandra import Cassandra\n",
    "from langchain.indexes.vectorstore import VectorStoreIndexWrapper"
   ]
  },
  {
   "cell_type": "code",
   "execution_count": 2,
   "id": "da548f6c",
   "metadata": {},
   "outputs": [],
   "source": [
    "from langchain_huggingface import HuggingFaceEndpoint,ChatHuggingFace,HuggingFaceEmbeddings\n",
    "from datasets import load_dataset"
   ]
  },
  {
   "cell_type": "code",
   "execution_count": 8,
   "id": "af97852b",
   "metadata": {},
   "outputs": [],
   "source": [
    "import cassio"
   ]
  },
  {
   "cell_type": "code",
   "execution_count": 3,
   "id": "6361027b",
   "metadata": {},
   "outputs": [
    {
     "data": {
      "text/plain": [
       "True"
      ]
     },
     "execution_count": 3,
     "metadata": {},
     "output_type": "execute_result"
    }
   ],
   "source": [
    "from dotenv import load_dotenv\n",
    "load_dotenv()"
   ]
  },
  {
   "cell_type": "code",
   "execution_count": 4,
   "id": "fa4150d5",
   "metadata": {},
   "outputs": [],
   "source": [
    "from langchain_community.document_loaders import PyPDFLoader\n",
    "\n",
    "loader = PyPDFLoader('budget_speech.pdf')"
   ]
  },
  {
   "cell_type": "code",
   "execution_count": 5,
   "id": "f1572fef",
   "metadata": {},
   "outputs": [
    {
     "data": {
      "text/plain": [
       "58"
      ]
     },
     "execution_count": 5,
     "metadata": {},
     "output_type": "execute_result"
    }
   ],
   "source": [
    "docs = loader.load()\n",
    "\n",
    "len(docs)"
   ]
  },
  {
   "cell_type": "code",
   "execution_count": 10,
   "id": "0915ac66",
   "metadata": {},
   "outputs": [],
   "source": [
    "llm = HuggingFaceEndpoint(\n",
    "    repo_id=\"mistralai/Mistral-7B-Instruct-v0.3\",\n",
    "    task=\"conversational\" \n",
    ")\n",
    "\n",
    "model = ChatHuggingFace(llm=llm)\n",
    "embeddings = HuggingFaceEmbeddings(model_name=\"sentence-transformers/all-MiniLM-L6-v2\")"
   ]
  },
  {
   "cell_type": "code",
   "execution_count": null,
   "id": "9ce1fd85",
   "metadata": {},
   "outputs": [],
   "source": [
    "ASTRA_DB_APPLICATION_TOKEN = \"\"\n",
    "ASTRA_DB_ID = \"\"\n",
    "cassio.init(token=ASTRA_DB_APPLICATION_TOKEN,database_id=ASTRA_DB_ID)"
   ]
  },
  {
   "cell_type": "code",
   "execution_count": 11,
   "id": "6406aea8",
   "metadata": {},
   "outputs": [],
   "source": [
    "astra_db_vector = Cassandra(\n",
    "    embedding=embeddings,\n",
    "    table_name=\"QnA\",\n",
    "    session=None,\n",
    "    keyspace=None\n",
    ")"
   ]
  },
  {
   "cell_type": "code",
   "execution_count": 12,
   "id": "c4b4f2e7",
   "metadata": {},
   "outputs": [],
   "source": [
    "from langchain.text_splitter import RecursiveCharacterTextSplitter\n",
    "\n",
    "text_spliter = RecursiveCharacterTextSplitter(\n",
    " chunk_size = 1000   \n",
    ")\n"
   ]
  },
  {
   "cell_type": "code",
   "execution_count": 13,
   "id": "dc202732",
   "metadata": {},
   "outputs": [],
   "source": [
    "chunks = text_spliter.split_documents(docs)"
   ]
  },
  {
   "cell_type": "code",
   "execution_count": 14,
   "id": "069b26f0",
   "metadata": {},
   "outputs": [
    {
     "data": {
      "text/plain": [
       "122"
      ]
     },
     "execution_count": 14,
     "metadata": {},
     "output_type": "execute_result"
    }
   ],
   "source": [
    "len(chunks)"
   ]
  },
  {
   "cell_type": "code",
   "execution_count": 15,
   "id": "100fdd34",
   "metadata": {},
   "outputs": [
    {
     "data": {
      "text/plain": [
       "['f6059a719de34f3cb714eaaa6dda3e2b',\n",
       " 'd19f05dcfcb34073a028dcf8dedbb812',\n",
       " '14c1e1cec102402db468418951615846',\n",
       " '296e40ed7ae7481ebbf9dc657075bee8',\n",
       " '2b211ed8f98a4246a165e16d808b5923',\n",
       " '7594763e45194d599b2396381c75f47d',\n",
       " 'ffa2c920a3874153a23d583d5dbd5e7b',\n",
       " 'dbefac2899e34bfeba40c08ac6d3d2e7',\n",
       " '2fc38943fab3460f9a29ff980d7175ef',\n",
       " '9b48988e350a4e41905158dc22a05772',\n",
       " 'b4967f41128e495986f6eb525f23b3bf',\n",
       " '26cfbab4da8346ecbaa013ce0a4229d6',\n",
       " '4b6b297c79b94057a6d2d1992026c9a3',\n",
       " '409c6822a18f419084482a73f4d83085',\n",
       " '09b4894b3ac346b1bc0d70592db94792',\n",
       " '079074424d1547d3b98eac90604d48b4',\n",
       " 'a5a2bf50f18e4642b92396db4e870324',\n",
       " '6e6aa31b510d4fe7beb1504506572ae3',\n",
       " '56f49ff2a77d415ca5e3d44aba879958',\n",
       " '5f4771bd98e24e59abf54f53a2c82aeb',\n",
       " 'beea9c0d6efa475bb39b4b86ced46a2d',\n",
       " 'b731a0d2a7ef472491561330aef7c186',\n",
       " '35ef2596ec084159872a1fd78ce8ac5e',\n",
       " 'bfad4199c9d04f4ca1f97dea47322c89',\n",
       " '12af3b94d63145138cdde52647220ab0',\n",
       " '15b8f64f6f7643cbaae871674da51013',\n",
       " 'de8bb07355de41989be486e878b41207',\n",
       " 'b450b67f50ab430280cc00067a6a682e',\n",
       " '64025ee5c5204b468344e5c3c416e186',\n",
       " '034fd77efe5a4033a644e9648b6da056',\n",
       " 'a75dc4933e6d41e49659c4bf7173fc97',\n",
       " '713ede5943be4967bc026bf31d62fcf7',\n",
       " '708302eeedb24e97959e492cb99af012',\n",
       " '864eb57cfb824cd3b6b18dd1d9cc0be5',\n",
       " 'b3bd7974382e45bfb6a690c644f96470',\n",
       " 'fcf58887522a4ce29d56d5215522a6fe',\n",
       " '70d4a5dc691b47c2b90ae03188aa347c',\n",
       " '874e19a58948462387d58eb0745e5a8d',\n",
       " '82166e07bc7e40b19f766135274e4786',\n",
       " 'cb3fe4158fce462fb9945ff711fcdedd',\n",
       " 'b34a62200ce7473882b0c8de12752f66',\n",
       " 'c116912841ed46f088009bcd850cc3fa',\n",
       " '3dfd55146a8a4a31bad6e37d6c0e99c6',\n",
       " '94b65c39c3db4c099c86ae942ee9c134',\n",
       " '924d3b4e32c948e58bdd80a7536cd551',\n",
       " '02091931aa5c409caf1fae916e89754b',\n",
       " '8b15f5fabdbe4eb79f7fd98d94af9e6a',\n",
       " 'd7640fab7eb144c1a739f02f2138101f',\n",
       " '2dedea23edd14a9b94e1b5197c6d5c64',\n",
       " 'a495dee1e6824d559e3352a3cebc9111',\n",
       " 'b4dd7999a0cd492394cc62b976e40031',\n",
       " '8ff43f25e2ea4aad9b0ff9a4d9c0725f',\n",
       " 'bebccc4fa1ed499ab05675ec341446bf',\n",
       " 'c19272873cd345d48134f802bddce9c9',\n",
       " 'ac738a8083ae45c2a850c1656784dbe7',\n",
       " '62e8891ea9fa49e4b713f5a2a208ad10',\n",
       " '4e89fca62da34e3aaceb69db49f595e0',\n",
       " 'a5aa89c1924843c8bfb7b364293d79a3',\n",
       " '16a3558a082c4297b105139373110f89',\n",
       " '8743d4be284a42978e76255e962208b1',\n",
       " 'cb66d457a9c64b6898606a8d0e9dbc62',\n",
       " 'd90a177355da4887a5ea18687e60af47',\n",
       " '6b843249e5e14e819830339ba68c0f07',\n",
       " 'd50e76833c79436982eead735d5424a8',\n",
       " '8b0ac01072b149808675d2fd9f565fbf',\n",
       " '3c4e16bd7b3648e9be313ce0ac488faf',\n",
       " 'ae52056ab3ac47d396e4785e56add474',\n",
       " 'a1d8e3b7f93e40cda7659c08e5172eb9',\n",
       " 'a534f13b7453493fa0230a4799f809b9',\n",
       " 'f361f54d7b954144bf24b74266f3527c',\n",
       " '4de3bf15fc6845fc895523123de8518d',\n",
       " '4f078729d6f8439184b9670bcbbb8fa6',\n",
       " '081917c40af74de8b3a14de45137396a',\n",
       " '77b95ccac7f8498d91dd49db5c3f8207',\n",
       " 'eb93f3a4723044998bf8d37108dfc52a',\n",
       " 'ce25e625efb3436fbb547931da76c9e7',\n",
       " 'b225d999d7ca4642be08fb2a3459098c',\n",
       " '1b657788e6b249e1a41b5e644ca682dd',\n",
       " 'c7303d8d1656460f9b0dc374d0ab74e8',\n",
       " '13dfcb28e29e473581980506309c8b5a',\n",
       " '859c96ab65fc43f59e3950f3a80bb9da',\n",
       " '661f20c7f3d8480fa047c1d039b484c7',\n",
       " '6f9976f476fc4aef964f7abed2e27cbc',\n",
       " 'f8cfd632f912411b8cb433d55d06ebfe',\n",
       " '5d424544dd2746ae80312087e7fbd544',\n",
       " '7dddcc1c50724c23872cad8ac7d8ceed',\n",
       " '043a71843f9a4f56b35f23752253f3aa',\n",
       " '1011acf671cd466c8c07d8519096ae5c',\n",
       " '79e3318550444f66b722d4658008c2d2',\n",
       " '911bf9a7aebd4db2ba33939baa2e98df',\n",
       " '6a40022830d44d51b3dc9f01178d0c1e',\n",
       " '6b5c6a5a1a164139a54e9ec01bd63bc3',\n",
       " '26cb60e457d0498ebaa37d3c73b0a402',\n",
       " '9b5964ce9f5c4dc4b6ab8cf7938c23a0',\n",
       " 'e4b1402cc428441686cda4a987ddf0ea',\n",
       " '4e847318c4cb4550a642e6c798634a48',\n",
       " 'abdf9cbc6d6642509df9f975bf1c9b0f',\n",
       " '57c3e67fe53046efa7f1908336099a25',\n",
       " 'f4512ca734574053acabfc0885aabb5d',\n",
       " '5fa07b6c86184173be9fabe1d8b4d757',\n",
       " '600abbfa39044a26851d3a21453dd9f3',\n",
       " '192c5ee5154a428eb820ff5db41b666f',\n",
       " '001032506b1942d5a91e2cb1bed98e1d',\n",
       " '64cf1cc71d064f90b1610574c6e671e9',\n",
       " '388019d485dc4685b42c35ba1e16aa3e',\n",
       " 'f749125950034b6aafef12d5836c20b7',\n",
       " '01de65e425f24cd5aadbe86de728d8a5',\n",
       " '614bff96b6324b4ab98e62c56262b49e',\n",
       " 'e3bd721d9fbf48d9904c1c9eac59b8ad',\n",
       " '11af0796670c4d74972424aed66bd8bb',\n",
       " 'e6340ac2224449c6a4cce80943b77a63',\n",
       " '63c60dac13594195b5989e361cb3619d',\n",
       " 'ae2a936ee37f4ee4a312dd928889f745',\n",
       " '754a57fe077f428da3d06a3535c95637',\n",
       " '5a9c7d796ecd435b8ead379a648d6b72',\n",
       " 'c29ca1050d9f40f695dd14982ca27c2f',\n",
       " 'fc62506cd082415792e404d459f49895',\n",
       " '6f30a727836a4a3f90adc667b1595daf',\n",
       " '4ece92d88931452a903811ec5c617837',\n",
       " '606afc765f4241c7b3603a23cf584d53',\n",
       " '91242b097edb4ae7a49f5e0bc8fc39a8',\n",
       " '6da62c04bb6d4b6fb0c37ef622b0de6f']"
      ]
     },
     "execution_count": 15,
     "metadata": {},
     "output_type": "execute_result"
    }
   ],
   "source": [
    "astra_db_vector.add_documents(chunks)"
   ]
  },
  {
   "cell_type": "code",
   "execution_count": 16,
   "id": "874f6fb1",
   "metadata": {},
   "outputs": [],
   "source": [
    "astra_vector_index = VectorStoreIndexWrapper(vectorstore=astra_db_vector)"
   ]
  },
  {
   "cell_type": "code",
   "execution_count": 17,
   "id": "8cfb0bb3",
   "metadata": {},
   "outputs": [
    {
     "data": {
      "text/plain": [
       "'The agriculture credit target will be increased to ` 20 lakh crore with focus on animal husbandry, dairy and fisheries. '"
      ]
     },
     "execution_count": 17,
     "metadata": {},
     "output_type": "execute_result"
    }
   ],
   "source": [
    "astra_vector_index.query(\"How much the agriculture target will be increased to and what the focus will be\",llm=model)"
   ]
  },
  {
   "cell_type": "code",
   "execution_count": null,
   "id": "2ae4a381",
   "metadata": {},
   "outputs": [],
   "source": []
  }
 ],
 "metadata": {
  "kernelspec": {
   "display_name": "Python 3",
   "language": "python",
   "name": "python3"
  },
  "language_info": {
   "codemirror_mode": {
    "name": "ipython",
    "version": 3
   },
   "file_extension": ".py",
   "mimetype": "text/x-python",
   "name": "python",
   "nbconvert_exporter": "python",
   "pygments_lexer": "ipython3",
   "version": "3.11.11"
  }
 },
 "nbformat": 4,
 "nbformat_minor": 5
}
